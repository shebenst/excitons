{
 "cells": [
  {
   "cell_type": "code",
   "execution_count": 1,
   "metadata": {},
   "outputs": [],
   "source": [
    "\"\"\"Modules\"\"\"\n",
    "\n",
    "import numpy as np\n",
    "import matplotlib.pyplot as plt"
   ]
  },
  {
   "cell_type": "code",
   "execution_count": 2,
   "metadata": {},
   "outputs": [],
   "source": [
    "\"\"\"Classes\"\"\"\n",
    "\n",
    "class FCC:\n",
    "    \"\"\"\n",
    "    Creates an object (whatever the user defines 'self' as) that has tied to it the array of points that are in an FCC\n",
    "    lattice as well as the vectors needed that create that lattice from a superposition of basis vectors.\n",
    "    \n",
    "    a, float: The value of the lattice constant along the x axis of the crystal geometry.\n",
    "    b, float: The value of the lattice constant along the y axis of the crystal geometry.\n",
    "    c, float: The value of the lattice constant along the z axis of the crystal geometry.\n",
    "    basis_vectors, list/array: A list/array of the points that can be used to construct the 'lattice_vectors.'\n",
    "    lattice_points, list/array: A list/array of the points that make up the lattice.\n",
    "    lattice_vectors, list/array: A list/array of the vectors that can be used to construct the lattice.\n",
    "    \"\"\"\n",
    "    \n",
    "    def __init__(self, a, b, c):\n",
    "        \"\"\"\n",
    "        # a, float: The value of the lattice constant along the x axis of the crystal geometry.\n",
    "        # b, float: The value of the lattice constant along the y axis of the crystal geometry.\n",
    "        # c, float: The value of the lattice constant along the z axis of the crystal geometry.\n",
    "        \n",
    "        Initializes all properties of the FCC crystal lattice object tied to 'self.'\n",
    "        \n",
    "        \"\"\"\n",
    "        \n",
    "        self.a = a\n",
    "        self.b = b\n",
    "        self.c = c\n",
    "        self.cryst_basis = [[a/2, b/2, 0], [a/2, 0, c/2], [0, b/2, c/2]]\n",
    "        self.lat_pnts = self.lattice_sites()\n",
    "\n",
    "        \n",
    "#     def cryst_vecs(self):\n",
    "#         \"\"\"\n",
    "#         Uses a not-necessarily-orthogonal basis governed by the crystal lattice to recreate the lattice of points in\n",
    "#         'create_vecs.'\n",
    "        \n",
    "#         ---\n",
    "#         Returns: a/an list/array of the vectors needed to translate to every lattice point from one lattice point. These\n",
    "#         lattice points can also be used to create the lattice if one starts at one of the bottom corners of the lattice.\n",
    "#         Realized that this function is totally useless but I will keep it here just in case. It does have outdated\n",
    "#         notation though.\n",
    "#         \"\"\"        \n",
    "        \n",
    "#         # Initializes the list/array.\n",
    "#         lat_vec = []\n",
    "        \n",
    "#         # Literal hard coding of the points as vectors. Technically, the vectors I was trying to find are different but since the code cannot tell that, it does not matter.\n",
    "#         for i in range(len(self.lattice_points)):\n",
    "#             q, r, s = self.lattice_points[i][0], self.lattice_points[i][1], self.lattice_points[i][2]\n",
    "#             l, m, n = ((r/self.b) - (s/self.c) + (q/self.a)), ((s/self.c) + (q/self.a) - (r/self.b)), ((r/self.b) + (s/self.c) - (q/self.a))\n",
    "#             lat_vec.append((l * np.array(self.basis_vectors[0]) + m * np.array(self.basis_vectors[1]) + n * np.array(self.basis_vectors[2])))\n",
    "            \n",
    "#         return np.array(lat_vec)\n",
    "    \n",
    "    def lattice_sites(self):\n",
    "        \"\"\"\n",
    "        Creates a list of the points on the Face Centered Cubic crystal lattice.\n",
    "        \n",
    "        ---\n",
    "        Returns: A list of vectors that point to each point of the crystal lattice using a standard Cartesian basis.\n",
    "        \"\"\"\n",
    "        \n",
    "        lattice_points = [[0, 0, 0], [self.a, 0, 0], [0, self.b, 0], [0, 0, self.c], [self.a, self.b, 0], [self.a, 0, self.c], [0, self.b, self.c], [self.a, self.b, self.c],\n",
    "                         [self.a/2, self.b/2, 0], [self.a/2, 0, self.c/2], [0 , self.b/2, self.c/2], [self.a/2, self.b/2, self.c], [self.a/2, self.b, self.c/2], [self.a, self.b/2, self.c/2]]\n",
    "        \n",
    "        return lattice_points"
   ]
  },
  {
   "cell_type": "code",
   "execution_count": 3,
   "metadata": {},
   "outputs": [],
   "source": [
    "\"\"\"Functions\"\"\"\n",
    "\n",
    "def epsilon():\n",
    "    \"\"\"\n",
    "    Creates the energy dispersion function that will then be plotted along certain k values.\n",
    "    \"\"\"\n",
    "    \n",
    "    pass"
   ]
  },
  {
   "cell_type": "code",
   "execution_count": 4,
   "metadata": {},
   "outputs": [
    {
     "name": "stdout",
     "output_type": "stream",
     "text": [
      "[[0, 0, 0], [0.352, 0, 0], [0, 0.352, 0], [0, 0, 0.352], [0.352, 0.352, 0], [0.352, 0, 0.352], [0, 0.352, 0.352], [0.352, 0.352, 0.352], [0.176, 0.176, 0], [0.176, 0, 0.176], [0, 0.176, 0.176], [0.176, 0.176, 0.352], [0.176, 0.352, 0.176], [0.352, 0.176, 0.176]]\n"
     ]
    }
   ],
   "source": [
    "fcc = FCC(0.352, 0.352, 0.352)"
   ]
  }
 ],
 "metadata": {
  "kernelspec": {
   "display_name": "Python 3",
   "language": "python",
   "name": "python3"
  },
  "language_info": {
   "codemirror_mode": {
    "name": "ipython",
    "version": 3
   },
   "file_extension": ".py",
   "mimetype": "text/x-python",
   "name": "python",
   "nbconvert_exporter": "python",
   "pygments_lexer": "ipython3",
   "version": "3.8.5"
  }
 },
 "nbformat": 4,
 "nbformat_minor": 4
}
