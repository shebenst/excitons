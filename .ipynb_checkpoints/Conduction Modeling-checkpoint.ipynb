{
 "cells": [
  {
   "cell_type": "code",
   "execution_count": 1,
   "metadata": {},
   "outputs": [],
   "source": [
    "\"\"\"Modules\"\"\"\n",
    "\n",
    "import numpy as np\n",
    "import matplotlib.pyplot as plt"
   ]
  },
  {
   "cell_type": "code",
   "execution_count": 11,
   "metadata": {},
   "outputs": [],
   "source": [
    "\"\"\"Classes\"\"\"\n",
    "\n",
    "class FCC:\n",
    "    \"\"\"\n",
    "    Creates an object (whatever the user defines 'self' as) that has tied to it the array of points that are in an FCC\n",
    "    lattice as well as the vectors needed that create that lattice from a superposition of basis vectors.\n",
    "    \n",
    "    a, float: The value of the lattice constant along the x axis of the crystal geometry.\n",
    "    b, float: The value of the lattice constant along the y axis of the crystal geometry.\n",
    "    c, float: The value of the lattice constant along the z axis of the crystal geometry.\n",
    "    basis_vectors, list/array: A list/array of the points that can be used to construct the 'lattice_vectors.'\n",
    "    lattice_points, list/array: A list/array of the points that make up the lattice.\n",
    "    lattice_vectors, list/array: A list/array of the vectors that can be used to construct the lattice.\n",
    "    \"\"\"\n",
    "    \n",
    "    def __init__(self, a, b, c):\n",
    "        \"\"\"\n",
    "        # a, float: The value of the lattice constant along the x axis of the crystal geometry.\n",
    "        # b, float: The value of the lattice constant along the y axis of the crystal geometry.\n",
    "        # c, float: The value of the lattice constant along the z axis of the crystal geometry.\n",
    "        \n",
    "        Initializes the FCC crystal lattice object tied to whatever variable the user defines 'self' as.\n",
    "        \n",
    "        \"\"\"\n",
    "        \n",
    "        self.a = a\n",
    "        self.b = b\n",
    "        self.c = c\n",
    "        self.basis_vectors = [[a/2, b/2, 0], [a/2, 0, c/2], [0, b/2, c/2]]\n",
    "        self.lattice_points = [[0, 0, 0], [a, 0, 0], [0, b, 0], [0, 0, c], [a, b, 0], [a, 0, c], [0, b, c], [a, b, c],\n",
    "                               [a/2, b/2, 0], [a/2, 0, c/2], [0 , b/2, c/2], [a/2, b/2, c], [a/2, b, c/2], [a, b/2, c/2]]\n",
    "        self.lattice_vectors = []\n",
    "        \n",
    "    def lat_vec(self):\n",
    "        \"\"\"\n",
    "        Returns: a/an list/array of the vectors needed to translate to every lattice point from one lattice point. These\n",
    "        lattice points can also be used to create the lattice if one starts at one of the bottom corners of the lattice.\n",
    "        \"\"\"\n",
    "        \n",
    "        # Goes through the coordinates in the list 'lattice_points' to create integers that the basis vectors must be\n",
    "        # multiplied by to create the list/array 'lattice_vectors.'\n",
    "        for i in range(len(self.lattice_points)):\n",
    "            q, r, s = self.lattice_points[i][0], self.lattice_points[i][1], self.lattice_points[i][2]\n",
    "            l, m, n = (s - r - q) / self.a, (r - q - s) / self.b, (q - r - s) / self.c\n",
    "            # The line below needs some work but it is late and I want to go to bed.\n",
    "            self.lattice_vectors.append((l * np.array(self.basis_vectors[0]), m * np.array(self.basis_vectors[1]),\n",
    "                                         n * np.array(self.basis_vectors[2])))\n",
    "        \n",
    "        return np.array(self.lattice_vectors)"
   ]
  },
  {
   "cell_type": "code",
   "execution_count": 12,
   "metadata": {},
   "outputs": [],
   "source": [
    "\"\"\"Functions\"\"\"\n",
    "\n",
    "def epsilon():\n",
    "    \"\"\"\n",
    "    Creates the energy dispersion function that will then be plotted along certain k values.\n",
    "    \"\"\"\n",
    "    \n",
    "    pass"
   ]
  },
  {
   "cell_type": "code",
   "execution_count": 13,
   "metadata": {},
   "outputs": [
    {
     "name": "stdout",
     "output_type": "stream",
     "text": [
      "[[[ 0.     0.     0.   ]\n",
      "  [ 0.     0.     0.   ]\n",
      "  [ 0.     0.     0.   ]]\n",
      "\n",
      " [[-0.176 -0.176 -0.   ]\n",
      "  [-0.176 -0.    -0.176]\n",
      "  [ 0.     0.176  0.176]]\n",
      "\n",
      " [[-0.176 -0.176 -0.   ]\n",
      "  [ 0.176  0.     0.176]\n",
      "  [-0.    -0.176 -0.176]]\n",
      "\n",
      " [[ 0.176  0.176  0.   ]\n",
      "  [-0.176 -0.    -0.176]\n",
      "  [-0.    -0.176 -0.176]]\n",
      "\n",
      " [[-0.352 -0.352 -0.   ]\n",
      "  [ 0.     0.     0.   ]\n",
      "  [ 0.     0.     0.   ]]\n",
      "\n",
      " [[ 0.     0.     0.   ]\n",
      "  [-0.352 -0.    -0.352]\n",
      "  [ 0.     0.     0.   ]]\n",
      "\n",
      " [[ 0.     0.     0.   ]\n",
      "  [ 0.     0.     0.   ]\n",
      "  [-0.    -0.352 -0.352]]\n",
      "\n",
      " [[-0.176 -0.176 -0.   ]\n",
      "  [-0.176 -0.    -0.176]\n",
      "  [-0.    -0.176 -0.176]]\n",
      "\n",
      " [[-0.176 -0.176 -0.   ]\n",
      "  [ 0.     0.     0.   ]\n",
      "  [ 0.     0.     0.   ]]\n",
      "\n",
      " [[ 0.     0.     0.   ]\n",
      "  [-0.176 -0.    -0.176]\n",
      "  [ 0.     0.     0.   ]]\n",
      "\n",
      " [[ 0.     0.     0.   ]\n",
      "  [ 0.     0.     0.   ]\n",
      "  [-0.    -0.176 -0.176]]\n",
      "\n",
      " [[ 0.     0.     0.   ]\n",
      "  [-0.176 -0.    -0.176]\n",
      "  [-0.    -0.176 -0.176]]\n",
      "\n",
      " [[-0.176 -0.176 -0.   ]\n",
      "  [ 0.     0.     0.   ]\n",
      "  [-0.    -0.176 -0.176]]\n",
      "\n",
      " [[-0.176 -0.176 -0.   ]\n",
      "  [-0.176 -0.    -0.176]\n",
      "  [ 0.     0.     0.   ]]]\n"
     ]
    }
   ],
   "source": [
    "fcc = FCC(0.352, 0.352, 0.352)\n",
    "print(fcc.lat_vec())"
   ]
  },
  {
   "cell_type": "code",
   "execution_count": null,
   "metadata": {},
   "outputs": [],
   "source": []
  }
 ],
 "metadata": {
  "kernelspec": {
   "display_name": "Python 3",
   "language": "python",
   "name": "python3"
  },
  "language_info": {
   "codemirror_mode": {
    "name": "ipython",
    "version": 3
   },
   "file_extension": ".py",
   "mimetype": "text/x-python",
   "name": "python",
   "nbconvert_exporter": "python",
   "pygments_lexer": "ipython3",
   "version": "3.8.5"
  }
 },
 "nbformat": 4,
 "nbformat_minor": 4
}
