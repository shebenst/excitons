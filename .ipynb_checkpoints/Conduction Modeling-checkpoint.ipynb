{
 "cells": [
  {
   "cell_type": "code",
   "execution_count": 5,
   "metadata": {},
   "outputs": [],
   "source": [
    "\"\"\"Modules\"\"\"\n",
    "\n",
    "import numpy as np\n",
    "import matplotlib.pyplot as plt"
   ]
  },
  {
   "cell_type": "code",
   "execution_count": 2,
   "metadata": {},
   "outputs": [],
   "source": [
    "\"\"\"Classes\"\"\"\n",
    "\n",
    "class FCC():\n",
    "    \"\"\"\n",
    "    Creates an object (whatever the user defines 'self' as) that has tied to it the array of points that are in an FCC\n",
    "    lattice as well as the vectors needed that create that lattice from a superposition of basis vectors.\n",
    "    \n",
    "    a, float: The value of the lattice constant along the x axis of the crystal geometry.\n",
    "    b, float: The value of the lattice constant along the y axis of the crystal geometry.\n",
    "    c, float: The value of the lattice constant along the z axis of the crystal geometry.\n",
    "    basis_vectors, list/array: A list/array of the points that can be used to construct the 'lattice_vectors.'\n",
    "    lattice_points, list/array: A list/array of the points that make up the lattice.\n",
    "    lattice_vectors, list/array: A list/array of the vectors that can be used to construct the lattice.\n",
    "    \"\"\"\n",
    "    \n",
    "    def __init__(self, a, b, c):\n",
    "        \"\"\"\n",
    "        # a, float: The value of the lattice constant along the x axis of the crystal geometry.\n",
    "        # b, float: The value of the lattice constant along the y axis of the crystal geometry.\n",
    "        # c, float: The value of the lattice constant along the z axis of the crystal geometry.\n",
    "        \n",
    "        \n",
    "        Initializes the FCC crystal lattice object tied to whatever variable the user defines 'self' as.\n",
    "        \n",
    "        \"\"\"\n",
    "        \n",
    "        self.a = a\n",
    "        self.b = b\n",
    "        self.c = c\n",
    "        self.basis_vectors = [[a/2, b/2, 0], [a/2, 0, c/2], [0, b/2, c/2]]\n",
    "        self.lattice_points = [[0, 0, 0], [a, 0, 0], [0, b, 0], [0, 0, c], [a, b, 0], [a, 0, c], [0, b, c], [a, b, c],\n",
    "                               [a/2, b/2, 0], [a/2, 0, c/2], [0 , b/2, c/2], [a/2, b/2, c], [a/2, b, c/2], [a, b/2, c/2]]\n",
    "        \n",
    "    def _lat_vec(self):\n",
    "        \"\"\"\n",
    "        Returns: a/an list/array of the vectors needed to translate to every lattice point from one lattice point. These\n",
    "        lattice points can also be used to create the lattice if one starts at one of the bottom corners of the lattice.\n",
    "        \"\"\"\n",
    "        \n",
    "        pass # I have stuff written on my board for how to do this with a cubic FCC lattice that can be generalized to a\n",
    "             # tetragonal lattice if needed (might be a good exercise for us to see how it affects the bands) but it is\n",
    "             # late and I need to sleep so I can go kayaking tomorrow morning."
   ]
  },
  {
   "cell_type": "code",
   "execution_count": 6,
   "metadata": {},
   "outputs": [],
   "source": [
    "\"\"\"Functions\"\"\"\n",
    "\n",
    "def epsilon():\n",
    "    \"\"\"\n",
    "    Creates the energy dispersion function that will then be plotted along certain k values.\n",
    "    \"\"\"\n",
    "    \n",
    "    pass"
   ]
  }
 ],
 "metadata": {
  "kernelspec": {
   "display_name": "Python 3",
   "language": "python",
   "name": "python3"
  },
  "language_info": {
   "codemirror_mode": {
    "name": "ipython",
    "version": 3
   },
   "file_extension": ".py",
   "mimetype": "text/x-python",
   "name": "python",
   "nbconvert_exporter": "python",
   "pygments_lexer": "ipython3",
   "version": "3.8.5"
  }
 },
 "nbformat": 4,
 "nbformat_minor": 4
}
